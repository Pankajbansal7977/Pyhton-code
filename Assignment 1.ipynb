{
 "cells": [
  {
   "cell_type": "markdown",
   "id": "0e72ae62",
   "metadata": {},
   "source": [
    "# Assignment solution"
   ]
  },
  {
   "cell_type": "code",
   "execution_count": 1,
   "id": "809e1f24",
   "metadata": {},
   "outputs": [
    {
     "data": {
      "text/plain": [
       "\" * = expression\\n 'hello' = value\\n -87.8 = value\\n - = expression\\n / = expression\\n +\\t = expression\\n 6 = value\\n\""
      ]
     },
     "execution_count": 1,
     "metadata": {},
     "output_type": "execute_result"
    }
   ],
   "source": [
    "# 1. In the below elements which of them are values or an expression? eg:- values can be integer or string and expressions will be mathematical operators.\n",
    "''' * = expression\n",
    " 'hello' = value\n",
    " -87.8 = value\n",
    " - = expression\n",
    " / = expression\n",
    " +\t = expression\n",
    " 6 = value\n",
    "'''"
   ]
  },
  {
   "cell_type": "code",
   "execution_count": 2,
   "id": "ae10a649",
   "metadata": {},
   "outputs": [
    {
     "data": {
      "text/plain": [
       "' Variables are symbols that you can use to store data in a program. You can think of them as an empty box that you fill with some data or value.\\n   var exmple - a = 10\\n  Strings are data, so we can use them to fill up a variable. \\n  Strings exmple = a = \"name'"
      ]
     },
     "execution_count": 2,
     "metadata": {},
     "output_type": "execute_result"
    }
   ],
   "source": [
    "# 2. What is the difference between string and variable? \n",
    "''' Variables are symbols that you can use to store data in a program. You can think of them as an empty box that you fill with some data or value.\n",
    "   var exmple - a = 10\n",
    "  Strings are data, so we can use them to fill up a variable. \n",
    "  Strings exmple = a = \"name'''"
   ]
  },
  {
   "cell_type": "code",
   "execution_count": 3,
   "id": "f169fdd9",
   "metadata": {},
   "outputs": [
    {
     "data": {
      "text/plain": [
       "'Integer (int)\\tNumeric data type for numbers without fractions. exmple - 707, 0, 707\\nFloating Point (float)\\tNumeric data type for numbers with fractions. exmple-  707.07, 0.7, 707.00\\nString (str or text)\\tSequence of characters, digits, or symbols—always treated as text. exmple - \"hello\",\"+1\",\"999\"\\n'"
      ]
     },
     "execution_count": 3,
     "metadata": {},
     "output_type": "execute_result"
    }
   ],
   "source": [
    "# 3. Describe three different data types\n",
    "'''Integer (int)\tNumeric data type for numbers without fractions. exmple - 707, 0, 707\n",
    "Floating Point (float)\tNumeric data type for numbers with fractions. exmple-  707.07, 0.7, 707.00\n",
    "String (str or text)\tSequence of characters, digits, or symbols—always treated as text. exmple - \"hello\",\"+1\",\"999\"\n",
    "'''"
   ]
  },
  {
   "cell_type": "code",
   "execution_count": 4,
   "id": "e24919cb",
   "metadata": {},
   "outputs": [
    {
     "name": "stdout",
     "output_type": "stream",
     "text": [
      "25\n",
      "11\n"
     ]
    }
   ],
   "source": [
    "# 4. What is an expression made up of? What do all expressions do?\n",
    "'''An expression is a combination of values, variables, operators, and calls to functions. Expressions need to be evaluated. If you ask Python to print an expression, the interpreter evaluates the expression and displays the result.'''\n",
    "print(5*5)\n",
    "print(len(\"Hello World\"))"
   ]
  },
  {
   "cell_type": "code",
   "execution_count": 5,
   "id": "b9bdfb2f",
   "metadata": {},
   "outputs": [
    {
     "data": {
      "text/plain": [
       "'An expression evaluates to a single value. A statement does not.'"
      ]
     },
     "execution_count": 5,
     "metadata": {},
     "output_type": "execute_result"
    }
   ],
   "source": [
    "# 5. This assignment statements, like spam = 10. What is the difference between an expression and a statement?\n",
    "'''An expression evaluates to a single value. A statement does not.'''\n"
   ]
  },
  {
   "cell_type": "code",
   "execution_count": 6,
   "id": "29e13aef",
   "metadata": {},
   "outputs": [
    {
     "data": {
      "text/plain": [
       "23"
      ]
     },
     "execution_count": 6,
     "metadata": {},
     "output_type": "execute_result"
    }
   ],
   "source": [
    "# 6. After running the following code, what does the variable bacon contain?\n",
    "bacon = 22\n",
    "bacon + 1\n",
    "\n",
    "# return = 23"
   ]
  },
  {
   "cell_type": "code",
   "execution_count": 7,
   "id": "4dafaac8",
   "metadata": {},
   "outputs": [
    {
     "data": {
      "text/plain": [
       "'spamspamspam'"
      ]
     },
     "execution_count": 7,
     "metadata": {},
     "output_type": "execute_result"
    }
   ],
   "source": [
    "# 7. What should the values of the following two terms be?\n",
    "'spam' + 'spamspam'\n",
    "'spam' * 3\n",
    "# return = \"spamspamspam\" "
   ]
  },
  {
   "cell_type": "code",
   "execution_count": 8,
   "id": "c37ab2d6",
   "metadata": {},
   "outputs": [
    {
     "data": {
      "text/plain": [
       "'Variable names cannot begin with a number.\\nwe can not start a variable with a number '"
      ]
     },
     "execution_count": 8,
     "metadata": {},
     "output_type": "execute_result"
    }
   ],
   "source": [
    "# 8. Why is eggs a valid variable name while 100 is invalid?\n",
    "'''Variable names cannot begin with a number.\n",
    "we can not start a variable with a number '''\n"
   ]
  },
  {
   "cell_type": "code",
   "execution_count": 9,
   "id": "e857a80a",
   "metadata": {},
   "outputs": [
    {
     "data": {
      "text/plain": [
       "'The int(), float(), and str() functions will evaluate to the integer, floating-point number, and string versions of the value passed to them.\\n'"
      ]
     },
     "execution_count": 9,
     "metadata": {},
     "output_type": "execute_result"
    }
   ],
   "source": [
    "# 9. What three functions can be used to get the integer, floating-point number, or string version of a value?\n",
    "'''The int(), float(), and str() functions will evaluate to the integer, floating-point number, and string versions of the value passed to them.\n",
    "'''"
   ]
  },
  {
   "cell_type": "code",
   "execution_count": 10,
   "id": "6298fd64",
   "metadata": {},
   "outputs": [
    {
     "name": "stdout",
     "output_type": "stream",
     "text": [
      "i have eaten 99 burritos\n"
     ]
    },
    {
     "data": {
      "text/plain": [
       "'The expression causes an error because 99 is an integer, and only strings can be concatenated to other strings with the + operator.\\n'"
      ]
     },
     "execution_count": 10,
     "metadata": {},
     "output_type": "execute_result"
    }
   ],
   "source": [
    "# 10. Why does this expression cause an error? How can you fix it?\n",
    "#'I have eaten ' + 99 + ' burritos.'\n",
    "\n",
    "print('i have eaten ' +str(99)+' burritos')\n",
    "'''The expression causes an error because 99 is an integer, and only strings can be concatenated to other strings with the + operator.\n",
    "'''"
   ]
  },
  {
   "cell_type": "code",
   "execution_count": null,
   "id": "59fcc4bd",
   "metadata": {},
   "outputs": [],
   "source": []
  }
 ],
 "metadata": {
  "kernelspec": {
   "display_name": "Python 3 (ipykernel)",
   "language": "python",
   "name": "python3"
  },
  "language_info": {
   "codemirror_mode": {
    "name": "ipython",
    "version": 3
   },
   "file_extension": ".py",
   "mimetype": "text/x-python",
   "name": "python",
   "nbconvert_exporter": "python",
   "pygments_lexer": "ipython3",
   "version": "3.10.11"
  }
 },
 "nbformat": 4,
 "nbformat_minor": 5
}
